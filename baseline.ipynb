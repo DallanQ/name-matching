{
 "cells": [
  {
   "cell_type": "code",
   "execution_count": 1,
   "id": "valuable-wayne",
   "metadata": {},
   "outputs": [],
   "source": [
    "import matplotlib.pyplot as plt\n",
    "import pandas as pd\n",
    "import numpy as np\n",
    "from tqdm import tqdm\n",
    "from sklearn.feature_extraction.text import TfidfVectorizer\n",
    "from sklearn.utils.extmath import safe_sparse_dot\n",
    "\n",
    "import metrics"
   ]
  },
  {
   "cell_type": "code",
   "execution_count": 2,
   "id": "judicial-pottery",
   "metadata": {},
   "outputs": [],
   "source": [
    "np.set_printoptions(suppress=True)\n",
    "tqdm.pandas()"
   ]
  },
  {
   "cell_type": "markdown",
   "id": "soviet-buffer",
   "metadata": {},
   "source": [
    "### Load and process data"
   ]
  },
  {
   "cell_type": "code",
   "execution_count": 3,
   "id": "confirmed-special",
   "metadata": {},
   "outputs": [],
   "source": [
    "def remove_padding(name):\n",
    "    return name[1:-1]\n",
    "\n",
    "def add_padding(name):\n",
    "    return '<' +  name + '>'"
   ]
  },
  {
   "cell_type": "code",
   "execution_count": 4,
   "id": "interracial-letters",
   "metadata": {},
   "outputs": [],
   "source": [
    "df = pd.read_csv('data/records25k_data.tsv', sep='\\t', header=None)\n",
    "df.columns = ['name1', 'name2', 'co_occurrence', 'count1', 'count2']\n",
    "df.dropna(inplace=True)"
   ]
  },
  {
   "cell_type": "code",
   "execution_count": 5,
   "id": "assured-xerox",
   "metadata": {},
   "outputs": [],
   "source": [
    "# Add padding \n",
    "df['name1'] = df['name1'].map(add_padding)\n",
    "df['name2'] = df['name2'].map(add_padding)"
   ]
  },
  {
   "cell_type": "code",
   "execution_count": 6,
   "id": "speaking-washington",
   "metadata": {},
   "outputs": [],
   "source": [
    "df_name_matches = df.groupby('name1')['name2'].agg(list).reset_index()\n",
    "all_candidates = np.array(list(set(df['name2'].tolist())))\n",
    "relevants = df_name_matches['name2'].tolist()"
   ]
  },
  {
   "cell_type": "markdown",
   "id": "processed-glenn",
   "metadata": {},
   "source": [
    "### Model"
   ]
  },
  {
   "cell_type": "code",
   "execution_count": 7,
   "id": "retained-vienna",
   "metadata": {},
   "outputs": [],
   "source": [
    "vectorizer = TfidfVectorizer(ngram_range=(1, 3), analyzer='char_wb', min_df=10)"
   ]
  },
  {
   "cell_type": "code",
   "execution_count": 8,
   "id": "removable-purpose",
   "metadata": {},
   "outputs": [],
   "source": [
    "X = vectorizer.fit_transform(all_candidates)"
   ]
  },
  {
   "cell_type": "markdown",
   "id": "organizational-dependence",
   "metadata": {},
   "source": [
    "#### Similarity Function"
   ]
  },
  {
   "cell_type": "code",
   "execution_count": 9,
   "id": "confident-hearing",
   "metadata": {},
   "outputs": [],
   "source": [
    "def get_similars(name, k=10, demo_mode=False):\n",
    "    if demo_mode:\n",
    "        name = add_padding(name)\n",
    "    x = vectorizer.transform([name]).toarray()\n",
    "    scores = safe_sparse_dot(X, x.T).flatten()\n",
    "    sorted_scores_idx = np.argsort(scores)[::-1][:k]\n",
    "    candidates = all_candidates[sorted_scores_idx]\n",
    "    if demo_mode:\n",
    "        candidates = [remove_padding(candidate) for candidate in candidates]\n",
    "    candidates_scores = scores[sorted_scores_idx]\n",
    "    \n",
    "    return list(zip(candidates, candidates_scores))"
   ]
  },
  {
   "cell_type": "markdown",
   "id": "specific-stuff",
   "metadata": {},
   "source": [
    "#### Demo"
   ]
  },
  {
   "cell_type": "code",
   "execution_count": 10,
   "id": "pointed-analyst",
   "metadata": {},
   "outputs": [
    {
     "data": {
      "text/plain": [
       "[('schumacker', 0.813049306612787),\n",
       " ('schuman', 0.7508859846317513),\n",
       " ('schumann', 0.7043014953156552),\n",
       " ('schumaker', 0.6964039007889642),\n",
       " ('schacher', 0.6624217118690013),\n",
       " ('schum', 0.640295210773405),\n",
       " ('scheuman', 0.5648330047009849),\n",
       " ('hamacher', 0.5521985335793914),\n",
       " ('amacher', 0.5464928177103441),\n",
       " ('stelmacher', 0.5398458711849166)]"
      ]
     },
     "execution_count": 10,
     "metadata": {},
     "output_type": "execute_result"
    }
   ],
   "source": [
    "get_similars('schumacher', 10, True)"
   ]
  },
  {
   "cell_type": "markdown",
   "id": "eastern-northwest",
   "metadata": {},
   "source": [
    "### Generate candidates for all names"
   ]
  },
  {
   "cell_type": "code",
   "execution_count": 11,
   "id": "rapid-durham",
   "metadata": {},
   "outputs": [
    {
     "name": "stderr",
     "output_type": "stream",
     "text": [
      "100%|██████████| 23587/23587 [01:14<00:00, 318.28it/s]\n"
     ]
    }
   ],
   "source": [
    "k = 100 # Number of candidates\n",
    "name_candidates = df_name_matches['name1'].progress_apply(get_similars, k=k)\n",
    "candidates = np.array(name_candidates.tolist())[:,:, 0]"
   ]
  },
  {
   "cell_type": "markdown",
   "id": "recovered-graduate",
   "metadata": {},
   "source": [
    "### Evaluation"
   ]
  },
  {
   "cell_type": "code",
   "execution_count": 12,
   "id": "painful-thing",
   "metadata": {},
   "outputs": [],
   "source": [
    "def precision_recall(relevants, candidates, N):\n",
    "    precisions = []\n",
    "    recalls = []\n",
    "    for i in range(N):\n",
    "        precisions.append(np.mean([metrics.precision_k(a, c, i + 1) for a, c in zip(relevants, candidates)]))\n",
    "        recalls.append(np.mean([metrics.recall_k(a, c, i + 1) for a, c in zip(relevants, candidates)]))\n",
    "    return precisions, recalls"
   ]
  },
  {
   "cell_type": "markdown",
   "id": "difficult-limitation",
   "metadata": {},
   "source": [
    "### mAP@1"
   ]
  },
  {
   "cell_type": "code",
   "execution_count": 13,
   "id": "healthy-russell",
   "metadata": {},
   "outputs": [
    {
     "data": {
      "text/plain": [
       "0.49217789460295924"
      ]
     },
     "execution_count": 13,
     "metadata": {},
     "output_type": "execute_result"
    }
   ],
   "source": [
    "metrics.mean_avg_precision_k(relevants, candidates, 1)"
   ]
  },
  {
   "cell_type": "markdown",
   "id": "buried-resource",
   "metadata": {},
   "source": [
    "### mAP@3"
   ]
  },
  {
   "cell_type": "code",
   "execution_count": 14,
   "id": "working-memorial",
   "metadata": {},
   "outputs": [
    {
     "data": {
      "text/plain": [
       "0.407076873795829"
      ]
     },
     "execution_count": 14,
     "metadata": {},
     "output_type": "execute_result"
    }
   ],
   "source": [
    "metrics.mean_avg_precision_k(relevants, candidates, 3)"
   ]
  },
  {
   "cell_type": "markdown",
   "id": "broken-dodge",
   "metadata": {},
   "source": [
    "### Precision-Recall Curve"
   ]
  },
  {
   "cell_type": "code",
   "execution_count": 15,
   "id": "vietnamese-float",
   "metadata": {},
   "outputs": [],
   "source": [
    "# Number of rank cutoffs to test i.e precision_{i}, recall_{i} for i in (1, ..., N)\n",
    "N = 100\n",
    "precisions, recalls = precision_recall(relevants, candidates, N)"
   ]
  },
  {
   "cell_type": "code",
   "execution_count": 16,
   "id": "false-wellington",
   "metadata": {},
   "outputs": [
    {
     "data": {
      "image/png": "[encoded data removed]",
      "text/plain": [
       "<Figure size 432x288 with 1 Axes>"
      ]
     },
     "metadata": {
      "needs_background": "light"
     },
     "output_type": "display_data"
    }
   ],
   "source": [
    "plt.plot(recalls, precisions, 'ko--')\n",
    "plt.xlabel('Recall')\n",
    "plt.ylabel('Precision')\n",
    "plt.show()"
   ]
  },
  {
   "cell_type": "code",
   "execution_count": null,
   "id": "whole-reader",
   "metadata": {},
   "outputs": [],
   "source": []
  }
 ],
 "metadata": {
  "kernelspec": {
   "display_name": "Python [conda env:name-matching] *",
   "language": "python",
   "name": "conda-env-name-matching-py"
  },
  "language_info": {
   "codemirror_mode": {
    "name": "ipython",
    "version": 3
   },
   "file_extension": ".py",
   "mimetype": "text/x-python",
   "name": "python",
   "nbconvert_exporter": "python",
   "pygments_lexer": "ipython3",
   "version": "3.8.5"
  }
 },
 "nbformat": 4,
 "nbformat_minor": 5
}
