{
 "cells": [
  {
   "cell_type": "code",
   "execution_count": 1,
   "id": "valuable-wayne",
   "metadata": {},
   "outputs": [],
   "source": [
    "import matplotlib.pyplot as plt\n",
    "import pandas as pd\n",
    "import numpy as np\n",
    "from tqdm import tqdm\n",
    "from sklearn.feature_extraction.text import TfidfVectorizer\n",
    "from sklearn.utils.extmath import safe_sparse_dot\n",
    "\n",
    "import metrics"
   ]
  },
  {
   "cell_type": "code",
   "execution_count": 2,
   "id": "judicial-pottery",
   "metadata": {},
   "outputs": [],
   "source": [
    "np.set_printoptions(suppress=True)\n",
    "tqdm.pandas()"
   ]
  },
  {
   "cell_type": "markdown",
   "id": "soviet-buffer",
   "metadata": {},
   "source": [
    "### Load and process data"
   ]
  },
  {
   "cell_type": "code",
   "execution_count": 3,
   "id": "interracial-letters",
   "metadata": {},
   "outputs": [],
   "source": [
    "df = pd.read_csv('data/records25k_data.tsv', sep='\\t', header=None)\n",
    "df.columns = ['name1', 'name2', 'co_occurrence', 'count1', 'count2']\n",
    "df.dropna(inplace=True)"
   ]
  },
  {
   "cell_type": "code",
   "execution_count": 4,
   "id": "speaking-washington",
   "metadata": {},
   "outputs": [],
   "source": [
    "df_name_matches = df.groupby('name1')['name2'].agg(list).reset_index()\n",
    "all_candidates = np.array(list(set(df['name2'].tolist())))\n",
    "relevants = df_name_matches['name2'].tolist()"
   ]
  },
  {
   "cell_type": "markdown",
   "id": "processed-glenn",
   "metadata": {},
   "source": [
    "### Model"
   ]
  },
  {
   "cell_type": "code",
   "execution_count": 5,
   "id": "retained-vienna",
   "metadata": {},
   "outputs": [],
   "source": [
    "vectorizer = TfidfVectorizer(ngram_range=(1, 3), analyzer='char_wb', min_df=10)"
   ]
  },
  {
   "cell_type": "code",
   "execution_count": 6,
   "id": "removable-purpose",
   "metadata": {},
   "outputs": [],
   "source": [
    "X = vectorizer.fit_transform(all_candidates)"
   ]
  },
  {
   "cell_type": "markdown",
   "id": "organizational-dependence",
   "metadata": {},
   "source": [
    "#### Similarity Function"
   ]
  },
  {
   "cell_type": "code",
   "execution_count": 7,
   "id": "confident-hearing",
   "metadata": {},
   "outputs": [],
   "source": [
    "def get_similars(name, k=10):\n",
    "    x = vectorizer.transform([name]).toarray()\n",
    "    scores = safe_sparse_dot(X, x.T).flatten()\n",
    "    sorted_scores_idx = np.argsort(scores)[::-1][:k]\n",
    "    candidates = all_candidates[sorted_scores_idx]\n",
    "    candidates_scores = scores[sorted_scores_idx]\n",
    "    \n",
    "    return list(zip(candidates, candidates_scores))"
   ]
  },
  {
   "cell_type": "markdown",
   "id": "specific-stuff",
   "metadata": {},
   "source": [
    "#### Demo"
   ]
  },
  {
   "cell_type": "code",
   "execution_count": 8,
   "id": "organic-stylus",
   "metadata": {},
   "outputs": [
    {
     "data": {
      "text/plain": [
       "[('schumacker', 0.8059985234265264),\n",
       " ('schuman', 0.756839107248047),\n",
       " ('schumann', 0.7077021140101964),\n",
       " ('schumaker', 0.6847740825173084),\n",
       " ('schum', 0.6573763863379664),\n",
       " ('schacher', 0.6480792733078763),\n",
       " ('scheuman', 0.5625756004447104),\n",
       " ('hamacher', 0.5537141511649946),\n",
       " ('amacher', 0.5511968006121096),\n",
       " ('schuk', 0.527669502986254)]"
      ]
     },
     "execution_count": 8,
     "metadata": {},
     "output_type": "execute_result"
    }
   ],
   "source": [
    "get_similars('schumacher', 10)"
   ]
  },
  {
   "cell_type": "markdown",
   "id": "eastern-northwest",
   "metadata": {},
   "source": [
    "### Generate candidates for all names"
   ]
  },
  {
   "cell_type": "code",
   "execution_count": 9,
   "id": "rapid-durham",
   "metadata": {},
   "outputs": [
    {
     "name": "stderr",
     "output_type": "stream",
     "text": [
      "100%|██████████| 23587/23587 [01:09<00:00, 340.20it/s]\n"
     ]
    }
   ],
   "source": [
    "k = 100 # Number of candidates\n",
    "name_candidates = df_name_matches['name1'].progress_apply(get_similars, k=k)\n",
    "candidates = np.array(name_candidates.tolist())[:,:, 0]"
   ]
  },
  {
   "cell_type": "markdown",
   "id": "recovered-graduate",
   "metadata": {},
   "source": [
    "### Evaluation"
   ]
  },
  {
   "cell_type": "code",
   "execution_count": 10,
   "id": "painful-thing",
   "metadata": {},
   "outputs": [],
   "source": [
    "def precision_recall(relevants, candidates, N):\n",
    "    precisions = []\n",
    "    recalls = []\n",
    "    for i in range(N):\n",
    "        precisions.append(np.mean([metrics.precision_k(a, c, i + 1) for a, c in zip(relevants, candidates)]))\n",
    "        recalls.append(np.mean([metrics.recall_k(a, c, i + 1) for a, c in zip(relevants, candidates)]))\n",
    "    return precisions, recalls"
   ]
  },
  {
   "cell_type": "markdown",
   "id": "difficult-limitation",
   "metadata": {},
   "source": [
    "### mAP@1"
   ]
  },
  {
   "cell_type": "code",
   "execution_count": 11,
   "id": "bigger-copper",
   "metadata": {},
   "outputs": [
    {
     "data": {
      "text/plain": [
       "0.4694111162928732"
      ]
     },
     "execution_count": 11,
     "metadata": {},
     "output_type": "execute_result"
    }
   ],
   "source": [
    "metrics.mean_avg_precision_k(relevants, candidates, 1)"
   ]
  },
  {
   "cell_type": "markdown",
   "id": "buried-resource",
   "metadata": {},
   "source": [
    "### mAP@3"
   ]
  },
  {
   "cell_type": "code",
   "execution_count": 12,
   "id": "institutional-material",
   "metadata": {},
   "outputs": [
    {
     "data": {
      "text/plain": [
       "0.3909474616431838"
      ]
     },
     "execution_count": 12,
     "metadata": {},
     "output_type": "execute_result"
    }
   ],
   "source": [
    "metrics.mean_avg_precision_k(relevants, candidates, 3)"
   ]
  },
  {
   "cell_type": "markdown",
   "id": "broken-dodge",
   "metadata": {},
   "source": [
    "### Precision-Recall Curve"
   ]
  },
  {
   "cell_type": "code",
   "execution_count": 13,
   "id": "vietnamese-float",
   "metadata": {},
   "outputs": [],
   "source": [
    "# Number of rank cutoffs to test i.e precision_{i}, recall_{i} for i in (1, ..., N)\n",
    "N = 100\n",
    "precisions, recalls = precision_recall(relevants, candidates, N)"
   ]
  },
  {
   "cell_type": "code",
   "execution_count": 14,
   "id": "false-wellington",
   "metadata": {},
   "outputs": [
    {
     "data": {
      "image/png": "[encoded data removed]",
      "text/plain": [
       "<Figure size 432x288 with 1 Axes>"
      ]
     },
     "metadata": {
      "needs_background": "light"
     },
     "output_type": "display_data"
    }
   ],
   "source": [
    "plt.plot(recalls, precisions, 'ko--')\n",
    "plt.xlabel('Recall')\n",
    "plt.ylabel('Precision')\n",
    "plt.show()"
   ]
  }
 ],
 "metadata": {
  "kernelspec": {
   "display_name": "Python [conda env:name-matching] *",
   "language": "python",
   "name": "conda-env-name-matching-py"
  },
  "language_info": {
   "codemirror_mode": {
    "name": "ipython",
    "version": 3
   },
   "file_extension": ".py",
   "mimetype": "text/x-python",
   "name": "python",
   "nbconvert_exporter": "python",
   "pygments_lexer": "ipython3",
   "version": "3.8.5"
  }
 },
 "nbformat": 4,
 "nbformat_minor": 5
}
